{
 "cells": [
  {
   "cell_type": "code",
   "execution_count": 1,
   "id": "baa7b818-0f2c-4c34-960e-0e18626f7f54",
   "metadata": {},
   "outputs": [
    {
     "name": "stderr",
     "output_type": "stream",
     "text": [
      "<frozen importlib._bootstrap>:228: RuntimeWarning: scipy._lib.messagestream.MessageStream size changed, may indicate binary incompatibility. Expected 56 from C header, got 64 from PyObject\n",
      "2024-01-04 12:14:00.792581: E external/local_xla/xla/stream_executor/cuda/cuda_dnn.cc:9261] Unable to register cuDNN factory: Attempting to register factory for plugin cuDNN when one has already been registered\n",
      "2024-01-04 12:14:00.792612: E external/local_xla/xla/stream_executor/cuda/cuda_fft.cc:607] Unable to register cuFFT factory: Attempting to register factory for plugin cuFFT when one has already been registered\n",
      "2024-01-04 12:14:00.793257: E external/local_xla/xla/stream_executor/cuda/cuda_blas.cc:1515] Unable to register cuBLAS factory: Attempting to register factory for plugin cuBLAS when one has already been registered\n",
      "2024-01-04 12:14:00.797104: I tensorflow/core/platform/cpu_feature_guard.cc:182] This TensorFlow binary is optimized to use available CPU instructions in performance-critical operations.\n",
      "To enable the following instructions: AVX2 FMA, in other operations, rebuild TensorFlow with the appropriate compiler flags.\n",
      "2024-01-04 12:14:01.402807: W tensorflow/compiler/tf2tensorrt/utils/py_utils.cc:38] TF-TRT Warning: Could not find TensorRT\n"
     ]
    }
   ],
   "source": [
    "import numpy as np\n",
    "import pandas as pd\n",
    "from aif360.datasets import CompasDataset\n",
    "from aif360.algorithms.preprocessing import Reweighing\n",
    "from aif360.metrics import BinaryLabelDatasetMetric\n",
    "import random"
   ]
  },
  {
   "cell_type": "code",
   "execution_count": 2,
   "id": "3aabe47e-135b-42a9-aedf-9e75f42922d8",
   "metadata": {},
   "outputs": [],
   "source": [
    "%matplotlib inline\n",
    "# Load all necessary packages\n",
    "# import sys\n",
    "# sys.path.append(\"../\")\n",
    "import numpy as np\n",
    "from tqdm import tqdm\n",
    "\n",
    "from aif360.datasets import BinaryLabelDataset\n",
    "from aif360.datasets import AdultDataset, GermanDataset, CompasDataset\n",
    "from aif360.metrics import BinaryLabelDatasetMetric\n",
    "from aif360.metrics import ClassificationMetric\n",
    "from aif360.algorithms.preprocessing.reweighing import Reweighing\n",
    "from aif360.algorithms.preprocessing.optim_preproc_helpers.data_preproc_functions\\\n",
    "        import load_preproc_data_adult, load_preproc_data_german, load_preproc_data_compas\n",
    "from sklearn.linear_model import LogisticRegression\n",
    "from sklearn.preprocessing import StandardScaler\n",
    "from sklearn.metrics import accuracy_score\n",
    "\n",
    "from IPython.display import Markdown, display\n",
    "import matplotlib.pyplot as plt\n",
    "\n",
    "from common_utils import compute_metrics"
   ]
  },
  {
   "cell_type": "code",
   "execution_count": 3,
   "id": "0d959ae7-b18f-4e60-870e-44b355234eb5",
   "metadata": {},
   "outputs": [],
   "source": [
    "import itertools\n",
    "\n",
    "import numpy as np\n",
    "import pandas as pd\n",
    "\n",
    "from aif360.metrics import BinaryLabelDatasetMetric, MDSSClassificationMetric\n",
    "from aif360.detectors import bias_scan\n",
    "\n",
    "from aif360.algorithms.preprocessing.optim_preproc_helpers.data_preproc_functions import load_preproc_data_compas"
   ]
  },
  {
   "cell_type": "code",
   "execution_count": 4,
   "id": "091ce8ab-597b-46bd-ae95-1250ef35f097",
   "metadata": {},
   "outputs": [],
   "source": [
    "# # Load the dataset with 'sex' and 'race' as protected attributes\n",
    "# compas_data = CompasDataset(\n",
    "#     protected_attribute_names=['sex', 'race'],\n",
    "#     privileged_classes=[['Male'], ['Caucasian']],  # 'Male' for 'sex' and 'Caucasian' for 'race'\n",
    "#     features_to_drop=[]  # No features to drop initially\n",
    "# )\n",
    "\n",
    "# # Filter the dataset for individuals aged less than 25\n",
    "# compas_data = compas_data.subset(compas_data.features[:, compas_data.feature_names.index('age')] < 25)\n",
    "\n",
    "# # Define privileged and unprivileged groups for both 'sex' and 'race'\n",
    "# privileged_groups = [{'sex': 1, 'race': 1}]\n",
    "# unprivileged_groups = [{'sex': 0, 'race': 0}]"
   ]
  },
  {
   "cell_type": "code",
   "execution_count": 5,
   "id": "ccc0d1a0-4aff-4046-91df-44864bdb2e27",
   "metadata": {},
   "outputs": [
    {
     "name": "stderr",
     "output_type": "stream",
     "text": [
      "WARNING:root:Missing Data: 29 rows removed from CompasDataset.\n"
     ]
    }
   ],
   "source": [
    "def custom_preprocessing(df):\n",
    "    sex_mapping = {'Male': 1, 'Female': 0, 'Other': 2}\n",
    "    df['sex'] = df['sex'].map(sex_mapping)\n",
    "\n",
    "    if 'race' in df.columns:\n",
    "        race_mapping = {'African-American': 0, 'Caucasian': 1, 'Hispanic': 2, 'Other': 3, 'Asian': 4, 'Native American': 5}\n",
    "        df['race'] = df['race'].map(race_mapping)\n",
    "\n",
    "    return df\n",
    "\n",
    "compas_data = CompasDataset(\n",
    "    protected_attribute_names=[],\n",
    "    privileged_classes=[],  \n",
    "    custom_preprocessing=custom_preprocessing\n",
    ")\n",
    "\n",
    "privileged_groups = []\n",
    "unprivileged_groups = []"
   ]
  },
  {
   "cell_type": "code",
   "execution_count": 6,
   "id": "5c344497-bf17-4113-bb7b-6327106d1820",
   "metadata": {},
   "outputs": [],
   "source": [
    "# Get the dataset and split into train and test\n",
    "dataset_orig_train, dataset_orig_vt = compas_data.split([0.7], shuffle=True)\n",
    "dataset_orig_valid, dataset_orig_test = compas_data.split([0.3], shuffle=True)"
   ]
  },
  {
   "cell_type": "code",
   "execution_count": 7,
   "id": "278f6de6-9e94-427d-a58e-3a6d84c3c6bb",
   "metadata": {},
   "outputs": [],
   "source": [
    "# Logistic regression classifier and predictions\n",
    "scale_orig = StandardScaler()\n",
    "X_train = scale_orig.fit_transform(dataset_orig_train.features)\n",
    "y_train = dataset_orig_train.labels.ravel()\n",
    "w_train = dataset_orig_train.instance_weights.ravel()\n",
    "\n",
    "lmod = LogisticRegression()\n",
    "lmod.fit(X_train, y_train, \n",
    "         sample_weight=dataset_orig_train.instance_weights)\n",
    "y_train_pred = lmod.predict(X_train)\n",
    "\n",
    "# positive class index\n",
    "pos_ind = np.where(lmod.classes_ == dataset_orig_train.favorable_label)[0][0]\n",
    "\n",
    "dataset_orig_train_pred = dataset_orig_train.copy()\n",
    "dataset_orig_train_pred.labels = y_train_pred"
   ]
  },
  {
   "cell_type": "code",
   "execution_count": 8,
   "id": "2254a99d-b615-4b78-bb9e-e8048b99cf05",
   "metadata": {},
   "outputs": [
    {
     "name": "stdout",
     "output_type": "stream",
     "text": [
      "[[0.64901428]\n",
      " [0.3686909 ]\n",
      " [0.43872729]\n",
      " [0.38599773]\n",
      " [0.16714846]\n",
      " [0.46130743]\n",
      " [0.77796401]\n",
      " [0.99837841]\n",
      " [0.34652783]\n",
      " [0.01865967]]\n"
     ]
    }
   ],
   "source": [
    "dataset_orig_valid_pred = dataset_orig_valid.copy(deepcopy=True)\n",
    "X_valid = scale_orig.transform(dataset_orig_valid_pred.features)\n",
    "y_valid = dataset_orig_valid_pred.labels\n",
    "dataset_orig_valid_pred.scores = lmod.predict_proba(X_valid)[:,pos_ind].reshape(-1,1)\n",
    "print(dataset_orig_valid_pred.scores[:10])\n",
    "\n",
    "dataset_orig_test_pred = dataset_orig_test.copy(deepcopy=True)\n",
    "X_test = scale_orig.transform(dataset_orig_test_pred.features)\n",
    "y_test = dataset_orig_test_pred.labels\n",
    "dataset_orig_test_pred.scores = lmod.predict_proba(X_test)[:,pos_ind].reshape(-1,1)"
   ]
  },
  {
   "cell_type": "code",
   "execution_count": 9,
   "id": "4baab8b9-0141-408d-bd7f-8ae4fc3c41b1",
   "metadata": {},
   "outputs": [
    {
     "name": "stdout",
     "output_type": "stream",
     "text": [
      "Best balanced accuracy (no reweighing) = 0.6765\n",
      "Optimal classification threshold (no reweighing) = 0.5544\n"
     ]
    }
   ],
   "source": [
    "num_thresh = 100\n",
    "ba_arr = np.zeros(num_thresh)\n",
    "class_thresh_arr = np.linspace(0.01, 0.99, num_thresh)\n",
    "for idx, class_thresh in enumerate(class_thresh_arr):\n",
    "    \n",
    "    fav_inds = dataset_orig_valid_pred.scores > class_thresh\n",
    "    dataset_orig_valid_pred.labels[fav_inds] = dataset_orig_valid_pred.favorable_label\n",
    "    dataset_orig_valid_pred.labels[~fav_inds] = dataset_orig_valid_pred.unfavorable_label\n",
    "    \n",
    "    classified_metric_orig_valid = ClassificationMetric(dataset_orig_valid,\n",
    "                                             dataset_orig_valid_pred)\n",
    "    \n",
    "    ba_arr[idx] = 0.5*(classified_metric_orig_valid.true_positive_rate()\\\n",
    "                       +classified_metric_orig_valid.true_negative_rate())\n",
    "\n",
    "best_ind = np.where(ba_arr == np.max(ba_arr))[0][0]\n",
    "best_class_thresh = class_thresh_arr[best_ind]\n",
    "\n",
    "print(\"Best balanced accuracy (no reweighing) = %.4f\" % np.max(ba_arr))\n",
    "print(\"Optimal classification threshold (no reweighing) = %.4f\" % best_class_thresh)"
   ]
  },
  {
   "cell_type": "code",
   "execution_count": 10,
   "id": "f9a8c677-6e4a-4c91-9ccb-f924e4965c1f",
   "metadata": {},
   "outputs": [
    {
     "data": {
      "text/markdown": [
       "#### Predictions from original testing data"
      ],
      "text/plain": [
       "<IPython.core.display.Markdown object>"
      ]
     },
     "metadata": {},
     "output_type": "display_data"
    },
    {
     "name": "stdout",
     "output_type": "stream",
     "text": [
      "Classification threshold used = 0.5544\n"
     ]
    },
    {
     "name": "stderr",
     "output_type": "stream",
     "text": [
      "  0%|          | 0/100 [00:00<?, ?it/s]invalid value encountered in double_scalars\n",
      "invalid value encountered in double_scalars\n",
      "invalid value encountered in double_scalars\n",
      " 33%|███▎      | 33/100 [00:00<00:00, 329.83it/s]"
     ]
    },
    {
     "name": "stdout",
     "output_type": "stream",
     "text": [
      "Balanced accuracy = 0.6947\n",
      "Statistical parity difference = nan\n",
      "Disparate impact = nan\n",
      "Average odds difference = nan\n",
      "Equal opportunity difference = nan\n",
      "Theil index = 0.2224\n"
     ]
    },
    {
     "name": "stderr",
     "output_type": "stream",
     "text": [
      "100%|██████████| 100/100 [00:00<00:00, 336.57it/s]\n"
     ]
    }
   ],
   "source": [
    "display(Markdown(\"#### Predictions from original testing data\"))\n",
    "bal_acc_arr_orig = []\n",
    "disp_imp_arr_orig = []\n",
    "avg_odds_diff_arr_orig = []\n",
    "\n",
    "print(\"Classification threshold used = %.4f\" % best_class_thresh)\n",
    "for thresh in tqdm(class_thresh_arr):\n",
    "    \n",
    "    if thresh == best_class_thresh:\n",
    "        disp = True\n",
    "    else:\n",
    "        disp = False\n",
    "    \n",
    "    fav_inds = dataset_orig_test_pred.scores > thresh\n",
    "    dataset_orig_test_pred.labels[fav_inds] = dataset_orig_test_pred.favorable_label\n",
    "    dataset_orig_test_pred.labels[~fav_inds] = dataset_orig_test_pred.unfavorable_label\n",
    "    \n",
    "    metric_test_bef = compute_metrics(dataset_orig_test, dataset_orig_test_pred, \n",
    "                                      unprivileged_groups, privileged_groups,\n",
    "                                      disp = disp)\n",
    "\n",
    "    bal_acc_arr_orig.append(metric_test_bef[\"Balanced accuracy\"])\n",
    "    avg_odds_diff_arr_orig.append(metric_test_bef[\"Average odds difference\"])\n",
    "    disp_imp_arr_orig.append(metric_test_bef[\"Disparate impact\"])"
   ]
  },
  {
   "cell_type": "markdown",
   "id": "b6cad331-8e41-416d-9b63-89ed1b093175",
   "metadata": {},
   "source": [
    "## Bias Scan"
   ]
  },
  {
   "cell_type": "code",
   "execution_count": 11,
   "id": "83e4db6f-6dd2-41e8-bb49-936bf6add232",
   "metadata": {},
   "outputs": [
    {
     "name": "stdout",
     "output_type": "stream",
     "text": [
      "Privileged Subset: ({'age': [19.0, 20.0, 33.0, 43.0, 48.0, 52.0, 55.0, 65.0, 96.0], 'sex': [1.0], 'race': [0.0, 2.0, 5.0]}, 16.798)\n",
      "Unprivileged Subset: ({'age': [22.0, 23.0, 24.0, 25.0, 28.0, 30.0, 32.0, 35.0, 37.0, 40.0, 49.0, 54.0], 'sex': [0.0]}, 10.6331)\n"
     ]
    }
   ],
   "source": [
    "# Convert the test dataset to DataFrame and add actual observed labels\n",
    "df_test, _ = dataset_orig_test.convert_to_dataframe()\n",
    "df_test['observed'] = df_test['two_year_recid']\n",
    "\n",
    "# Use the scores from dataset_orig_test_pred as probabilities for the test dataset\n",
    "df_test['probabilities'] = dataset_orig_test_pred.scores\n",
    "\n",
    "# Perform bias scan on the test dataset\n",
    "privileged_subset = bias_scan(df_test[['sex', 'age', 'race']], df_test['observed'], df_test['probabilities'],\n",
    "                              favorable_value=dataset_orig_test_pred.favorable_label,\n",
    "                              penalty=0.5, overpredicted=True)\n",
    "unprivileged_subset = bias_scan(df_test[['sex', 'age', 'race']], df_test['observed'], df_test['probabilities'],\n",
    "                                favorable_value=dataset_orig_test_pred.favorable_label,\n",
    "                                penalty=0.5, overpredicted=False)\n",
    "\n",
    "# Display results\n",
    "print(\"Privileged Subset:\", privileged_subset)\n",
    "print(\"Unprivileged Subset:\", unprivileged_subset)"
   ]
  },
  {
   "cell_type": "markdown",
   "id": "4819bba3-c34d-48e9-8531-ba2e7310499c",
   "metadata": {},
   "source": [
    "## Measuring and Comparing Bias"
   ]
  },
  {
   "cell_type": "markdown",
   "id": "130b8254-107d-49b0-8e93-ea6c10782375",
   "metadata": {},
   "source": [
    "Compare subset sex : 1 and sex : 0, based on Privileged Subset: ({'age': [19.0, 20.0, 33.0, 43.0, 48.0, 52.0, 55.0, 65.0, 96.0], 'sex': [1.0], 'race': [0.0, 2.0, 5.0]}, 16.798)"
   ]
  },
  {
   "cell_type": "code",
   "execution_count": 18,
   "id": "f6dbd23e-67ba-456e-8ddc-62c7a14dfc84",
   "metadata": {},
   "outputs": [
    {
     "name": "stderr",
     "output_type": "stream",
     "text": [
      "WARNING:root:Missing Data: 5 rows removed from CompasDataset.\n"
     ]
    },
    {
     "name": "stdout",
     "output_type": "stream",
     "text": [
      "Number of instances in male subgroup: 82\n",
      "Number of instances in female subgroup: 366\n",
      "Label distribution in male subgroup: (array([0., 1.]), array([56, 26]))\n",
      "Label distribution in female subgroup: (array([0., 1.]), array([139, 227]))\n",
      "Simple Mean Difference (Male Subgroup):  0.3170731707317073\n",
      "Simple Mean Difference (Female Subgroup):  0.6202185792349727\n"
     ]
    }
   ],
   "source": [
    "from aif360.datasets import CompasDataset\n",
    "from aif360.metrics import BinaryLabelDatasetMetric\n",
    "import numpy as np\n",
    "\n",
    "# Load the COMPAS dataset\n",
    "compas_data = CompasDataset()\n",
    "\n",
    "# Get indices for age, sex, and race features\n",
    "age_index = compas_data.feature_names.index('age')\n",
    "sex_index = compas_data.feature_names.index('sex')\n",
    "race_index = compas_data.feature_names.index('race')\n",
    "\n",
    "# Define interested age and race values\n",
    "ages_of_interest = [19, 20, 33, 43, 48, 52, 55, 65, 96]\n",
    "races_of_interest = [0, 2, 5]\n",
    "\n",
    "# Create subgroups based on sex, age, and race\n",
    "male_subgroup = compas_data.subset(np.logical_and(\n",
    "    np.isin(compas_data.features[:, age_index], ages_of_interest),\n",
    "    np.logical_and(compas_data.features[:, sex_index] == 1,\n",
    "                   np.isin(compas_data.features[:, race_index], races_of_interest))))\n",
    "\n",
    "female_subgroup = compas_data.subset(np.logical_and(\n",
    "    np.isin(compas_data.features[:, age_index], ages_of_interest),\n",
    "    np.logical_and(compas_data.features[:, sex_index] == 0,\n",
    "                   np.isin(compas_data.features[:, race_index], races_of_interest))))\n",
    "\n",
    "# Print number of instances and label distribution in each subgroup\n",
    "print(\"Number of instances in male subgroup:\", male_subgroup.features.shape[0])\n",
    "print(\"Number of instances in female subgroup:\", female_subgroup.features.shape[0])\n",
    "print(\"Label distribution in male subgroup:\", np.unique(male_subgroup.labels, return_counts=True))\n",
    "print(\"Label distribution in female subgroup:\", np.unique(female_subgroup.labels, return_counts=True))\n",
    "\n",
    "# Calculate and display simple mean difference\n",
    "def calculate_simple_mean_difference(subgroup):\n",
    "    labels = subgroup.labels.ravel()  # Flatten the label array\n",
    "    mean_label = np.mean(labels)     # Calculate the mean of labels\n",
    "    return mean_label\n",
    "\n",
    "mean_diff_male = calculate_simple_mean_difference(male_subgroup)\n",
    "mean_diff_female = calculate_simple_mean_difference(female_subgroup)\n",
    "\n",
    "print(\"Simple Mean Difference (Male Subgroup): \", mean_diff_male)\n",
    "print(\"Simple Mean Difference (Female Subgroup): \", mean_diff_female)"
   ]
  },
  {
   "cell_type": "code",
   "execution_count": null,
   "id": "e0d15120-1a48-474a-a059-86239f571244",
   "metadata": {},
   "outputs": [],
   "source": []
  },
  {
   "cell_type": "code",
   "execution_count": null,
   "id": "eb0191de-2763-4115-a6c9-b45b8c324679",
   "metadata": {},
   "outputs": [],
   "source": []
  },
  {
   "cell_type": "code",
   "execution_count": null,
   "id": "3f98edb9-df05-4ade-9e18-a20d1de54825",
   "metadata": {},
   "outputs": [],
   "source": []
  },
  {
   "cell_type": "code",
   "execution_count": null,
   "id": "d140d467-8f68-4a27-b060-4c3321c2b929",
   "metadata": {},
   "outputs": [],
   "source": []
  },
  {
   "cell_type": "markdown",
   "id": "35c8ea55-a09c-4b98-bae1-23c7e3d4e3c6",
   "metadata": {},
   "source": [
    "Compare subset age, Unprivileged Subset: ({'age': [22.0, 23.0, 24.0, 25.0, 28.0, 30.0, 32.0, 35.0, 37.0, 40.0, 49.0, 54.0], 'sex': [0.0]}, 10.6331)"
   ]
  },
  {
   "cell_type": "code",
   "execution_count": 19,
   "id": "37c884d5-a268-4775-ad7d-f50f1d05246e",
   "metadata": {},
   "outputs": [
    {
     "name": "stderr",
     "output_type": "stream",
     "text": [
      "WARNING:root:Missing Data: 5 rows removed from CompasDataset.\n"
     ]
    },
    {
     "name": "stdout",
     "output_type": "stream",
     "text": [
      "Number of instances in female in age subgroup: 551\n",
      "Number of instances in female outside age subgroup: 4443\n",
      "Label distribution in female in age subgroup: (array([0., 1.]), array([251, 300]))\n",
      "Label distribution in female outside age subgroup: (array([0., 1.]), array([2347, 2096]))\n",
      "Simple Mean Difference (Female In Age Subgroup):  0.5444646098003629\n",
      "Simple Mean Difference (Female Outside Age Subgroup):  0.4717533198289444\n"
     ]
    }
   ],
   "source": [
    "from aif360.datasets import CompasDataset\n",
    "from aif360.metrics import BinaryLabelDatasetMetric\n",
    "import numpy as np\n",
    "\n",
    "# Load the COMPAS dataset\n",
    "compas_data = CompasDataset()\n",
    "\n",
    "# Get indices for age, sex, and race features\n",
    "age_index = compas_data.feature_names.index('age')\n",
    "sex_index = compas_data.feature_names.index('sex')\n",
    "\n",
    "# Define interested age values\n",
    "ages_of_interest = [19, 20, 33, 43, 48, 52, 55, 65, 96]\n",
    "\n",
    "# Create subgroups for female individuals based on age\n",
    "female_in_age_subgroup = compas_data.subset(np.logical_and(\n",
    "    np.isin(compas_data.features[:, age_index], ages_of_interest),\n",
    "    compas_data.features[:, sex_index] == 0))\n",
    "\n",
    "female_outside_age_subgroup = compas_data.subset(np.logical_and(\n",
    "    ~np.isin(compas_data.features[:, age_index], ages_of_interest),\n",
    "    compas_data.features[:, sex_index] == 0))\n",
    "\n",
    "# Print number of instances and label distribution in each female subgroup\n",
    "print(\"Number of instances in female in age subgroup:\", female_in_age_subgroup.features.shape[0])\n",
    "print(\"Number of instances in female outside age subgroup:\", female_outside_age_subgroup.features.shape[0])\n",
    "print(\"Label distribution in female in age subgroup:\", np.unique(female_in_age_subgroup.labels, return_counts=True))\n",
    "print(\"Label distribution in female outside age subgroup:\", np.unique(female_outside_age_subgroup.labels, return_counts=True))\n",
    "\n",
    "# Calculate and display simple mean difference for female subgroups\n",
    "mean_diff_female_in_age = calculate_simple_mean_difference(female_in_age_subgroup)\n",
    "mean_diff_female_outside_age = calculate_simple_mean_difference(female_outside_age_subgroup)\n",
    "\n",
    "print(\"Simple Mean Difference (Female In Age Subgroup): \", mean_diff_female_in_age)\n",
    "print(\"Simple Mean Difference (Female Outside Age Subgroup): \", mean_diff_female_outside_age)"
   ]
  }
 ],
 "metadata": {
  "kernelspec": {
   "display_name": "Python 3 (ipykernel)",
   "language": "python",
   "name": "python3"
  },
  "language_info": {
   "codemirror_mode": {
    "name": "ipython",
    "version": 3
   },
   "file_extension": ".py",
   "mimetype": "text/x-python",
   "name": "python",
   "nbconvert_exporter": "python",
   "pygments_lexer": "ipython3",
   "version": "3.9.18"
  }
 },
 "nbformat": 4,
 "nbformat_minor": 5
}
