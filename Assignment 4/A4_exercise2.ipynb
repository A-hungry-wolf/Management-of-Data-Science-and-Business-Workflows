{
 "cells": [
  {
   "cell_type": "code",
   "execution_count": 2,
   "id": "baa7b818-0f2c-4c34-960e-0e18626f7f54",
   "metadata": {},
   "outputs": [],
   "source": [
    "import numpy as np\n",
    "import pandas as pd\n",
    "from aif360.datasets import CompasDataset\n",
    "from aif360.algorithms.preprocessing import Reweighing\n",
    "from aif360.metrics import BinaryLabelDatasetMetric"
   ]
  },
  {
   "cell_type": "code",
   "execution_count": 1,
   "id": "3aabe47e-135b-42a9-aedf-9e75f42922d8",
   "metadata": {},
   "outputs": [
    {
     "name": "stderr",
     "output_type": "stream",
     "text": [
      "<frozen importlib._bootstrap>:228: RuntimeWarning: scipy._lib.messagestream.MessageStream size changed, may indicate binary incompatibility. Expected 56 from C header, got 64 from PyObject\n",
      "2024-01-02 21:08:32.216888: E external/local_xla/xla/stream_executor/cuda/cuda_dnn.cc:9261] Unable to register cuDNN factory: Attempting to register factory for plugin cuDNN when one has already been registered\n",
      "2024-01-02 21:08:32.216920: E external/local_xla/xla/stream_executor/cuda/cuda_fft.cc:607] Unable to register cuFFT factory: Attempting to register factory for plugin cuFFT when one has already been registered\n",
      "2024-01-02 21:08:32.217690: E external/local_xla/xla/stream_executor/cuda/cuda_blas.cc:1515] Unable to register cuBLAS factory: Attempting to register factory for plugin cuBLAS when one has already been registered\n",
      "2024-01-02 21:08:32.221706: I tensorflow/core/platform/cpu_feature_guard.cc:182] This TensorFlow binary is optimized to use available CPU instructions in performance-critical operations.\n",
      "To enable the following instructions: AVX2 FMA, in other operations, rebuild TensorFlow with the appropriate compiler flags.\n",
      "2024-01-02 21:08:32.981585: W tensorflow/compiler/tf2tensorrt/utils/py_utils.cc:38] TF-TRT Warning: Could not find TensorRT\n"
     ]
    }
   ],
   "source": [
    "%matplotlib inline\n",
    "# Load all necessary packages\n",
    "# import sys\n",
    "# sys.path.append(\"../\")\n",
    "import numpy as np\n",
    "from tqdm import tqdm\n",
    "\n",
    "from aif360.datasets import BinaryLabelDataset\n",
    "from aif360.datasets import AdultDataset, GermanDataset, CompasDataset\n",
    "from aif360.metrics import BinaryLabelDatasetMetric\n",
    "from aif360.metrics import ClassificationMetric\n",
    "from aif360.algorithms.preprocessing.reweighing import Reweighing\n",
    "from aif360.algorithms.preprocessing.optim_preproc_helpers.data_preproc_functions\\\n",
    "        import load_preproc_data_adult, load_preproc_data_german, load_preproc_data_compas\n",
    "from sklearn.linear_model import LogisticRegression\n",
    "from sklearn.preprocessing import StandardScaler\n",
    "from sklearn.metrics import accuracy_score\n",
    "\n",
    "from IPython.display import Markdown, display\n",
    "import matplotlib.pyplot as plt\n",
    "\n",
    "from common_utils import compute_metrics"
   ]
  },
  {
   "cell_type": "code",
   "execution_count": 3,
   "id": "0d959ae7-b18f-4e60-870e-44b355234eb5",
   "metadata": {},
   "outputs": [],
   "source": [
    "import itertools\n",
    "\n",
    "import numpy as np\n",
    "import pandas as pd\n",
    "\n",
    "from aif360.metrics import BinaryLabelDatasetMetric, MDSSClassificationMetric\n",
    "from aif360.detectors import bias_scan\n",
    "\n",
    "from aif360.algorithms.preprocessing.optim_preproc_helpers.data_preproc_functions import load_preproc_data_compas"
   ]
  },
  {
   "cell_type": "code",
   "execution_count": 12,
   "id": "091ce8ab-597b-46bd-ae95-1250ef35f097",
   "metadata": {},
   "outputs": [
    {
     "name": "stderr",
     "output_type": "stream",
     "text": [
      "WARNING:root:Missing Data: 5 rows removed from CompasDataset.\n"
     ]
    }
   ],
   "source": [
    "# Load the dataset with 'sex' and 'race' as protected attributes\n",
    "compas_data = CompasDataset(\n",
    "    protected_attribute_names=['sex', 'race'],\n",
    "    privileged_classes=[['Male'], ['Caucasian']],  # 'Male' for 'sex' and 'Caucasian' for 'race'\n",
    "    features_to_drop=[]  # No features to drop initially\n",
    ")\n",
    "\n",
    "# Filter the dataset for individuals aged less than 25\n",
    "compas_data = compas_data.subset(compas_data.features[:, compas_data.feature_names.index('age')] < 25)\n",
    "\n",
    "# Define privileged and unprivileged groups for both 'sex' and 'race'\n",
    "privileged_groups = [{'sex': 1, 'race': 1}]\n",
    "unprivileged_groups = [{'sex': 0, 'race': 0}]"
   ]
  },
  {
   "cell_type": "code",
   "execution_count": 13,
   "id": "5c344497-bf17-4113-bb7b-6327106d1820",
   "metadata": {},
   "outputs": [],
   "source": [
    "# Get the dataset and split into train and test\n",
    "dataset_orig_train, dataset_orig_vt = compas_data.split([0.7], shuffle=True)\n",
    "dataset_orig_valid, dataset_orig_test = compas_data.split([0.3], shuffle=True)"
   ]
  },
  {
   "cell_type": "code",
   "execution_count": 14,
   "id": "49c3e062-35c9-41a2-b14a-0e8c397d288e",
   "metadata": {},
   "outputs": [
    {
     "data": {
      "text/markdown": [
       "#### Training Dataset shape"
      ],
      "text/plain": [
       "<IPython.core.display.Markdown object>"
      ]
     },
     "metadata": {},
     "output_type": "display_data"
    },
    {
     "name": "stdout",
     "output_type": "stream",
     "text": [
      "(942, 401)\n"
     ]
    },
    {
     "data": {
      "text/markdown": [
       "#### Favorable and unfavorable labels"
      ],
      "text/plain": [
       "<IPython.core.display.Markdown object>"
      ]
     },
     "metadata": {},
     "output_type": "display_data"
    },
    {
     "name": "stdout",
     "output_type": "stream",
     "text": [
      "0.0 1.0\n"
     ]
    },
    {
     "data": {
      "text/markdown": [
       "#### Protected attribute names"
      ],
      "text/plain": [
       "<IPython.core.display.Markdown object>"
      ]
     },
     "metadata": {},
     "output_type": "display_data"
    },
    {
     "name": "stdout",
     "output_type": "stream",
     "text": [
      "['sex', 'race']\n"
     ]
    },
    {
     "data": {
      "text/markdown": [
       "#### Privileged and unprivileged protected attribute values"
      ],
      "text/plain": [
       "<IPython.core.display.Markdown object>"
      ]
     },
     "metadata": {},
     "output_type": "display_data"
    },
    {
     "name": "stdout",
     "output_type": "stream",
     "text": [
      "[array([1.]), array([1.])] [array([0.]), array([0.])]\n"
     ]
    },
    {
     "data": {
      "text/markdown": [
       "#### Dataset feature names"
      ],
      "text/plain": [
       "<IPython.core.display.Markdown object>"
      ]
     },
     "metadata": {},
     "output_type": "display_data"
    },
    {
     "name": "stdout",
     "output_type": "stream",
     "text": [
      "['sex', 'age', 'race', 'juv_fel_count', 'juv_misd_count', 'juv_other_count', 'priors_count', 'age_cat=25 - 45', 'age_cat=Greater than 45', 'age_cat=Less than 25', 'c_charge_degree=F', 'c_charge_degree=M', 'c_charge_desc=Abuse Without Great Harm', 'c_charge_desc=Agg Abuse Elderlly/Disabled Adult', 'c_charge_desc=Agg Assault W/int Com Fel Dome', 'c_charge_desc=Agg Battery Grt/Bod/Harm', 'c_charge_desc=Agg Fleeing and Eluding', 'c_charge_desc=Agg Fleeing/Eluding High Speed', 'c_charge_desc=Aggr Child Abuse-Torture,Punish', 'c_charge_desc=Aggrav Battery w/Deadly Weapon', 'c_charge_desc=Aggrav Child Abuse-Agg Battery', 'c_charge_desc=Aggrav Child Abuse-Causes Harm', 'c_charge_desc=Aggrav Stalking After Injunctn', 'c_charge_desc=Aggravated Assault', 'c_charge_desc=Aggravated Assault W/Dead Weap', 'c_charge_desc=Aggravated Assault W/dead Weap', 'c_charge_desc=Aggravated Assault W/o Firearm', 'c_charge_desc=Aggravated Assault w/Firearm', 'c_charge_desc=Aggravated Battery', 'c_charge_desc=Aggravated Battery (Firearm)', 'c_charge_desc=Aggravated Battery (Firearm/Actual Possession)', 'c_charge_desc=Aggravated Battery / Pregnant', 'c_charge_desc=Aggravated Battery On 65/Older', 'c_charge_desc=Aide/Abet Prostitution Lewdness', 'c_charge_desc=Aiding Escape', 'c_charge_desc=Alcoholic Beverage Violation-FL', 'c_charge_desc=Armed Trafficking in Cannabis', 'c_charge_desc=Arson in the First Degree', 'c_charge_desc=Assault', 'c_charge_desc=Assault Law Enforcement Officer', 'c_charge_desc=Att Burgl Conv Occp', 'c_charge_desc=Att Burgl Struc/Conv Dwel/Occp', 'c_charge_desc=Att Burgl Unoccupied Dwel', 'c_charge_desc=Att Tamper w/Physical Evidence', 'c_charge_desc=Attempt Armed Burglary Dwell', 'c_charge_desc=Attempted Burg/Convey/Unocc', 'c_charge_desc=Attempted Burg/struct/unocc', 'c_charge_desc=Attempted Deliv Control Subst', 'c_charge_desc=Attempted Robbery  No Weapon', 'c_charge_desc=Attempted Robbery  Weapon', 'c_charge_desc=Battery', 'c_charge_desc=Battery Emergency Care Provide', 'c_charge_desc=Battery On A Person Over 65', 'c_charge_desc=Battery On Fire Fighter', 'c_charge_desc=Battery On Parking Enfor Speci', 'c_charge_desc=Battery Spouse Or Girlfriend', 'c_charge_desc=Battery on Law Enforc Officer', 'c_charge_desc=Battery on a Person Over 65', 'c_charge_desc=Bribery Athletic Contests', 'c_charge_desc=Burgl Dwel/Struct/Convey Armed', 'c_charge_desc=Burglary Assault/Battery Armed', 'c_charge_desc=Burglary Conveyance Armed', 'c_charge_desc=Burglary Conveyance Assault/Bat', 'c_charge_desc=Burglary Conveyance Occupied', 'c_charge_desc=Burglary Conveyance Unoccup', 'c_charge_desc=Burglary Dwelling Armed', 'c_charge_desc=Burglary Dwelling Assault/Batt', 'c_charge_desc=Burglary Dwelling Occupied', 'c_charge_desc=Burglary Structure Assault/Batt', 'c_charge_desc=Burglary Structure Occupied', 'c_charge_desc=Burglary Structure Unoccup', 'c_charge_desc=Burglary Unoccupied Dwelling', 'c_charge_desc=Burglary With Assault/battery', 'c_charge_desc=Carjacking w/o Deadly Weapon', 'c_charge_desc=Carjacking with a Firearm', 'c_charge_desc=Carry Open/Uncov Bev In Pub', 'c_charge_desc=Carrying A Concealed Weapon', 'c_charge_desc=Carrying Concealed Firearm', 'c_charge_desc=Cash Item w/Intent to Defraud', 'c_charge_desc=Child Abuse', 'c_charge_desc=Computer Pornography', 'c_charge_desc=Consp Traff Oxycodone  4g><14g', 'c_charge_desc=Conspiracy Dealing Stolen Prop', 'c_charge_desc=Consume Alcoholic Bev Pub', 'c_charge_desc=Contradict Statement', 'c_charge_desc=Contribute Delinquency Of A Minor', 'c_charge_desc=Corrupt Public Servant', 'c_charge_desc=Counterfeit Lic Plates/Sticker', 'c_charge_desc=Crim Attempt/Solic/Consp', 'c_charge_desc=Crim Use of Personal ID Info', 'c_charge_desc=Crimin Mischief Damage $1000+', 'c_charge_desc=Criminal Mischief', 'c_charge_desc=Criminal Mischief Damage <$200', 'c_charge_desc=Criminal Mischief>$200<$1000', 'c_charge_desc=Crlty Twrd Child Urge Oth Act', 'c_charge_desc=Cruelty Toward Child', 'c_charge_desc=Cruelty to Animals', 'c_charge_desc=Culpable Negligence', 'c_charge_desc=D.U.I. Serious Bodily Injury', 'c_charge_desc=DOC/Cause Public Danger', 'c_charge_desc=DUI - Enhanced', 'c_charge_desc=DUI - Property Damage/Personal Injury', 'c_charge_desc=DUI Blood Alcohol Above 0.20', 'c_charge_desc=DUI Level 0.15 Or Minor In Veh', 'c_charge_desc=DUI Property Damage/Injury', 'c_charge_desc=DUI- Enhanced', 'c_charge_desc=DUI/Property Damage/Persnl Inj', 'c_charge_desc=DWI w/Inj Susp Lic / Habit Off', 'c_charge_desc=DWLS Canceled Disqul 1st Off', 'c_charge_desc=DWLS Susp/Cancel Revoked', 'c_charge_desc=Dealing in Stolen Property', 'c_charge_desc=Defrauding Innkeeper', 'c_charge_desc=Defrauding Innkeeper $300/More', 'c_charge_desc=Del 3,4 Methylenedioxymethcath', 'c_charge_desc=Del Cannabis At/Near Park', 'c_charge_desc=Del Cannabis For Consideration', 'c_charge_desc=Del of JWH-250 2-Methox 1-Pentyl', 'c_charge_desc=Deliver 3,4 Methylenediox', 'c_charge_desc=Deliver Alprazolam', 'c_charge_desc=Deliver Cannabis', 'c_charge_desc=Deliver Cannabis 1000FTSch', 'c_charge_desc=Deliver Cocaine', 'c_charge_desc=Deliver Cocaine 1000FT Church', 'c_charge_desc=Deliver Cocaine 1000FT Park', 'c_charge_desc=Deliver Cocaine 1000FT School', 'c_charge_desc=Deliver Cocaine 1000FT Store', 'c_charge_desc=Delivery Of Drug Paraphernalia', 'c_charge_desc=Delivery of 5-Fluoro PB-22', 'c_charge_desc=Delivery of Heroin', 'c_charge_desc=Depriv LEO of Protect/Communic', 'c_charge_desc=Disorderly Conduct', 'c_charge_desc=Disorderly Intoxication', 'c_charge_desc=Disrupting School Function', 'c_charge_desc=Drivg While Lic Suspd/Revk/Can', 'c_charge_desc=Driving License Suspended', 'c_charge_desc=Driving Under The Influence', 'c_charge_desc=Driving While License Revoked', 'c_charge_desc=Escape', 'c_charge_desc=Exhibition Weapon School Prop', 'c_charge_desc=Expired DL More Than 6 Months', 'c_charge_desc=Exposes Culpable Negligence', 'c_charge_desc=Extradition/Defendants', 'c_charge_desc=Fabricating Physical Evidence', 'c_charge_desc=Fail Register Vehicle', 'c_charge_desc=Fail Sex Offend Report Bylaw', 'c_charge_desc=Fail To Obey Police Officer', 'c_charge_desc=Fail To Redeliv Hire/Leas Prop', 'c_charge_desc=Failure To Pay Taxi Cab Charge', 'c_charge_desc=Failure To Return Hired Vehicle', 'c_charge_desc=False 911 Call', 'c_charge_desc=False Bomb Report', 'c_charge_desc=False Imprisonment', 'c_charge_desc=False Info LEO During Invest', 'c_charge_desc=False Motor Veh Insurance Card', 'c_charge_desc=False Name By Person Arrest', 'c_charge_desc=False Ownership Info/Pawn Item', 'c_charge_desc=Falsely Impersonating Officer', 'c_charge_desc=Fel Drive License Perm Revoke', 'c_charge_desc=Felon in Pos of Firearm or Amm', 'c_charge_desc=Felony Batt(Great Bodily Harm)', 'c_charge_desc=Felony Battery', 'c_charge_desc=Felony Battery (Dom Strang)', 'c_charge_desc=Felony Battery w/Prior Convict', 'c_charge_desc=Felony Committing Prostitution', 'c_charge_desc=Felony DUI (level 3)', 'c_charge_desc=Felony DUI - Enhanced', 'c_charge_desc=Felony Driving While Lic Suspd', 'c_charge_desc=Felony Petit Theft', 'c_charge_desc=Felony/Driving Under Influence', 'c_charge_desc=Fighting/Baiting Animals', 'c_charge_desc=Fleeing Or Attmp Eluding A Leo', 'c_charge_desc=Fleeing or Eluding a LEO', 'c_charge_desc=Forging Bank Bills/Promis Note', 'c_charge_desc=Fraudulent Use of Credit Card', 'c_charge_desc=Grand Theft (Motor Vehicle)', 'c_charge_desc=Grand Theft Dwell Property', 'c_charge_desc=Grand Theft Firearm', 'c_charge_desc=Grand Theft in the 1st Degree', 'c_charge_desc=Grand Theft in the 3rd Degree', 'c_charge_desc=Grand Theft of a Fire Extinquisher', 'c_charge_desc=Grand Theft of the 2nd Degree', 'c_charge_desc=Grand Theft on 65 Yr or Older', 'c_charge_desc=Harass Witness/Victm/Informnt', 'c_charge_desc=Harm Public Servant Or Family', 'c_charge_desc=Hiring with Intent to Defraud', 'c_charge_desc=Imperson Public Officer or Emplyee', 'c_charge_desc=Interfere W/Traf Cont Dev RR', 'c_charge_desc=Interference with Custody', 'c_charge_desc=Intoxicated/Safety Of Another', 'c_charge_desc=Introduce Contraband Into Jail', 'c_charge_desc=Issuing a Worthless Draft', 'c_charge_desc=Kidnapping / Domestic Violence', 'c_charge_desc=Lease For Purpose Trafficking', 'c_charge_desc=Leave Acc/Attend Veh/More $50', 'c_charge_desc=Leave Accd/Attend Veh/Less $50', 'c_charge_desc=Leaving Acc/Unattended Veh', 'c_charge_desc=Leaving the Scene of Accident', 'c_charge_desc=Lewd Act Presence Child 16-', 'c_charge_desc=Lewd or Lascivious Molestation', 'c_charge_desc=Lewd/Lasc Battery Pers 12+/<16', 'c_charge_desc=Lewd/Lasc Exhib Presence <16yr', 'c_charge_desc=Lewd/Lasciv Molest Elder Persn', 'c_charge_desc=Lewdness Violation', 'c_charge_desc=License Suspended Revoked', 'c_charge_desc=Littering', 'c_charge_desc=Live on Earnings of Prostitute', 'c_charge_desc=Lve/Scen/Acc/Veh/Prop/Damage', 'c_charge_desc=Manage Busn W/O City Occup Lic', 'c_charge_desc=Manslaughter W/Weapon/Firearm', 'c_charge_desc=Manufacture Cannabis', 'c_charge_desc=Misuse Of 911 Or E911 System', 'c_charge_desc=Money Launder 100K or More Dols', 'c_charge_desc=Murder In 2nd Degree W/firearm', 'c_charge_desc=Murder in the First Degree', 'c_charge_desc=Neglect Child / Bodily Harm', 'c_charge_desc=Neglect Child / No Bodily Harm', 'c_charge_desc=Neglect/Abuse Elderly Person', 'c_charge_desc=Obstruct Fire Equipment', 'c_charge_desc=Obstruct Officer W/Violence', 'c_charge_desc=Obtain Control Substance By Fraud', 'c_charge_desc=Offer Agree Secure For Lewd Act', 'c_charge_desc=Offer Agree Secure/Lewd Act', 'c_charge_desc=Offn Against Intellectual Prop', 'c_charge_desc=Open Carrying Of Weapon', 'c_charge_desc=Oper Motorcycle W/O Valid DL', 'c_charge_desc=Operating W/O Valid License', 'c_charge_desc=Opert With Susp DL 2nd Offens', 'c_charge_desc=PL/Unlaw Use Credit Card', 'c_charge_desc=Petit Theft', 'c_charge_desc=Petit Theft $100- $300', 'c_charge_desc=Pos Cannabis For Consideration', 'c_charge_desc=Pos Cannabis W/Intent Sel/Del', 'c_charge_desc=Pos Methylenedioxymethcath W/I/D/S', 'c_charge_desc=Poss 3,4 MDMA (Ecstasy)', 'c_charge_desc=Poss Alprazolam W/int Sell/Del', 'c_charge_desc=Poss Anti-Shoplifting Device', 'c_charge_desc=Poss Cntrft Contr Sub w/Intent', 'c_charge_desc=Poss Cocaine/Intent To Del/Sel', 'c_charge_desc=Poss Contr Subst W/o Prescript', 'c_charge_desc=Poss Counterfeit Payment Inst', 'c_charge_desc=Poss Drugs W/O A Prescription', 'c_charge_desc=Poss F/Arm Delinq', 'c_charge_desc=Poss Firearm W/Altered ID#', 'c_charge_desc=Poss Meth/Diox/Meth/Amp (MDMA)', 'c_charge_desc=Poss Of 1,4-Butanediol', 'c_charge_desc=Poss Of Controlled Substance', 'c_charge_desc=Poss Of RX Without RX', 'c_charge_desc=Poss Oxycodone W/Int/Sell/Del', 'c_charge_desc=Poss Pyrrolidinobutiophenone', 'c_charge_desc=Poss Pyrrolidinovalerophenone', 'c_charge_desc=Poss Pyrrolidinovalerophenone W/I/D/S', 'c_charge_desc=Poss Similitude of Drivers Lic', 'c_charge_desc=Poss Tetrahydrocannabinols', 'c_charge_desc=Poss Unlaw Issue Driver Licenc', 'c_charge_desc=Poss Unlaw Issue Id', 'c_charge_desc=Poss Wep Conv Felon', 'c_charge_desc=Poss of Cocaine W/I/D/S 1000FT Park', 'c_charge_desc=Poss of Firearm by Convic Felo', 'c_charge_desc=Poss of Methylethcathinone', 'c_charge_desc=Poss/Sell/Del Cocaine 1000FT Sch', 'c_charge_desc=Poss/Sell/Del/Man Amobarbital', 'c_charge_desc=Poss/pur/sell/deliver Cocaine', 'c_charge_desc=Poss3,4 Methylenedioxymethcath', 'c_charge_desc=Posses/Disply Susp/Revk/Frd DL', 'c_charge_desc=Possess Cannabis 1000FTSch', 'c_charge_desc=Possess Cannabis/20 Grams Or Less', 'c_charge_desc=Possess Controlled Substance', 'c_charge_desc=Possess Countrfeit Credit Card', 'c_charge_desc=Possess Drug Paraphernalia', 'c_charge_desc=Possess Mot Veh W/Alt Vin #', 'c_charge_desc=Possess Tobacco Product Under 18', 'c_charge_desc=Possess Weapon On School Prop', 'c_charge_desc=Possess w/I/Utter Forged Bills', 'c_charge_desc=Possession Burglary Tools', 'c_charge_desc=Possession Child Pornography', 'c_charge_desc=Possession Firearm School Prop', 'c_charge_desc=Possession Of 3,4Methylenediox', 'c_charge_desc=Possession Of Alprazolam', 'c_charge_desc=Possession Of Amphetamine', 'c_charge_desc=Possession Of Anabolic Steroid', 'c_charge_desc=Possession Of Buprenorphine', 'c_charge_desc=Possession Of Carisoprodol', 'c_charge_desc=Possession Of Clonazepam', 'c_charge_desc=Possession Of Cocaine', 'c_charge_desc=Possession Of Diazepam', 'c_charge_desc=Possession Of Fentanyl', 'c_charge_desc=Possession Of Heroin', 'c_charge_desc=Possession Of Methamphetamine', 'c_charge_desc=Possession Of Paraphernalia', 'c_charge_desc=Possession Of Phentermine', 'c_charge_desc=Possession of Alcohol Under 21', 'c_charge_desc=Possession of Benzylpiperazine', 'c_charge_desc=Possession of Butylone', 'c_charge_desc=Possession of Cannabis', 'c_charge_desc=Possession of Cocaine', 'c_charge_desc=Possession of Codeine', 'c_charge_desc=Possession of Ethylone', 'c_charge_desc=Possession of Hydrocodone', 'c_charge_desc=Possession of Hydromorphone', 'c_charge_desc=Possession of LSD', 'c_charge_desc=Possession of Methadone', 'c_charge_desc=Possession of Morphine', 'c_charge_desc=Possession of Oxycodone', 'c_charge_desc=Possession of XLR11', 'c_charge_desc=Principal In The First Degree', 'c_charge_desc=Prostitution', 'c_charge_desc=Prostitution/Lewd Act Assignation', 'c_charge_desc=Prostitution/Lewdness/Assign', 'c_charge_desc=Prowling/Loitering', 'c_charge_desc=Purchase Cannabis', 'c_charge_desc=Purchase/P/W/Int Cannabis', 'c_charge_desc=Reckless Driving', 'c_charge_desc=Refuse Submit Blood/Breath Test', 'c_charge_desc=Refuse to Supply DNA Sample', 'c_charge_desc=Resist Officer w/Violence', 'c_charge_desc=Resist/Obstruct W/O Violence', 'c_charge_desc=Retail Theft $300 1st Offense', 'c_charge_desc=Retail Theft $300 2nd Offense', 'c_charge_desc=Ride Tri-Rail Without Paying', 'c_charge_desc=Robbery / No Weapon', 'c_charge_desc=Robbery / Weapon', 'c_charge_desc=Robbery Sudd Snatch No Weapon', 'c_charge_desc=Robbery W/Deadly Weapon', 'c_charge_desc=Robbery W/Firearm', 'c_charge_desc=Sale/Del Cannabis At/Near Scho', 'c_charge_desc=Sale/Del Counterfeit Cont Subs', 'c_charge_desc=Sel/Pur/Mfr/Del Control Substa', 'c_charge_desc=Sell or Offer for Sale Counterfeit Goods', 'c_charge_desc=Sell/Man/Del Pos/w/int Heroin', 'c_charge_desc=Sex Batt Faml/Cust Vict 12-17Y', 'c_charge_desc=Sex Battery Deft 18+/Vict 11-', 'c_charge_desc=Sex Offender Fail Comply W/Law', 'c_charge_desc=Sexual Battery / Vict 12 Yrs +', 'c_charge_desc=Sexual Performance by a Child', 'c_charge_desc=Shoot In Occupied Dwell', 'c_charge_desc=Shoot Into Vehicle', 'c_charge_desc=Simulation of Legal Process', 'c_charge_desc=Solic to Commit Battery', 'c_charge_desc=Solicit Deliver Cocaine', 'c_charge_desc=Solicit Purchase Cocaine', 'c_charge_desc=Solicit To Deliver Cocaine', 'c_charge_desc=Solicitation On Felony 3 Deg', 'c_charge_desc=Soliciting For Prostitution', 'c_charge_desc=Sound Articles Over 100', 'c_charge_desc=Stalking', 'c_charge_desc=Stalking (Aggravated)', 'c_charge_desc=Strong Armed  Robbery', 'c_charge_desc=Structuring Transactions', 'c_charge_desc=Susp Drivers Lic 1st Offense', 'c_charge_desc=Tamper With Victim', 'c_charge_desc=Tamper With Witness', 'c_charge_desc=Tamper With Witness/Victim/CI', 'c_charge_desc=Tampering With Physical Evidence', 'c_charge_desc=Tampering with a Victim', 'c_charge_desc=Theft/To Deprive', 'c_charge_desc=Threat Public Servant', 'c_charge_desc=Throw Deadly Missile Into Veh', 'c_charge_desc=Throw In Occupied Dwell', 'c_charge_desc=Throw Missile Into Pub/Priv Dw', 'c_charge_desc=Traff In Cocaine <400g>150 Kil', 'c_charge_desc=Traffic Counterfeit Cred Cards', 'c_charge_desc=Traffick Amphetamine 28g><200g', 'c_charge_desc=Traffick Oxycodone     4g><14g', 'c_charge_desc=Trans/Harm/Material to a Minor', 'c_charge_desc=Trespass On School Grounds', 'c_charge_desc=Trespass Other Struct/Conve', 'c_charge_desc=Trespass Private Property', 'c_charge_desc=Trespass Property w/Dang Weap', 'c_charge_desc=Trespass Struct/Conveyance', 'c_charge_desc=Trespass Structure w/Dang Weap', 'c_charge_desc=Trespass Structure/Conveyance', 'c_charge_desc=Trespassing/Construction Site', 'c_charge_desc=Tresspass Struct/Conveyance', 'c_charge_desc=Tresspass in Structure or Conveyance', 'c_charge_desc=Unauth C/P/S Sounds>1000/Audio', 'c_charge_desc=Unauth Poss ID Card or DL', 'c_charge_desc=Unauthorized Interf w/Railroad', 'c_charge_desc=Unl/Disturb Education/Instui', 'c_charge_desc=Unlaw Lic Use/Disply Of Others', 'c_charge_desc=Unlaw LicTag/Sticker Attach', 'c_charge_desc=Unlaw Use False Name/Identity', 'c_charge_desc=Unlawful Conveyance of Fuel', 'c_charge_desc=Unlicensed Telemarketing', 'c_charge_desc=Use Computer for Child Exploit', 'c_charge_desc=Use Of 2 Way Device To Fac Fel', 'c_charge_desc=Use Scanning Device to Defraud', 'c_charge_desc=Use of Anti-Shoplifting Device', 'c_charge_desc=Uttering Forged Bills', 'c_charge_desc=Uttering Forged Credit Card', 'c_charge_desc=Uttering Worthless Check +$150', 'c_charge_desc=Uttering a Forged Instrument', 'c_charge_desc=Video Voyeur-<24Y on Child >16', 'c_charge_desc=Viol Injunct Domestic Violence', 'c_charge_desc=Viol Injunction Protect Dom Vi', 'c_charge_desc=Viol Pretrial Release Dom Viol', 'c_charge_desc=Viol Prot Injunc Repeat Viol', 'c_charge_desc=Violation License Restrictions', 'c_charge_desc=Violation Of Boater Safety Id', 'c_charge_desc=Violation of Injunction Order/Stalking/Cyberstalking', 'c_charge_desc=Voyeurism', 'c_charge_desc=arrest case no charge']\n"
     ]
    }
   ],
   "source": [
    "# print out some labels, names, etc.\n",
    "display(Markdown(\"#### Training Dataset shape\"))\n",
    "print(dataset_orig_train.features.shape)\n",
    "display(Markdown(\"#### Favorable and unfavorable labels\"))\n",
    "print(dataset_orig_train.favorable_label, dataset_orig_train.unfavorable_label)\n",
    "display(Markdown(\"#### Protected attribute names\"))\n",
    "print(dataset_orig_train.protected_attribute_names)\n",
    "display(Markdown(\"#### Privileged and unprivileged protected attribute values\"))\n",
    "print(dataset_orig_train.privileged_protected_attributes, \n",
    "      dataset_orig_train.unprivileged_protected_attributes)\n",
    "display(Markdown(\"#### Dataset feature names\"))\n",
    "print(dataset_orig_train.feature_names)"
   ]
  },
  {
   "cell_type": "code",
   "execution_count": 15,
   "id": "49c0dbe3-37ce-4fb8-89fc-eed491a388a1",
   "metadata": {},
   "outputs": [
    {
     "data": {
      "text/markdown": [
       "#### Original training dataset"
      ],
      "text/plain": [
       "<IPython.core.display.Markdown object>"
      ]
     },
     "metadata": {},
     "output_type": "display_data"
    },
    {
     "name": "stdout",
     "output_type": "stream",
     "text": [
      "Difference in mean outcomes between unprivileged and privileged groups = 0.075624\n"
     ]
    }
   ],
   "source": [
    "# Metric for the original dataset\n",
    "metric_orig_train = BinaryLabelDatasetMetric(dataset_orig_train, \n",
    "                                             unprivileged_groups=unprivileged_groups,\n",
    "                                             privileged_groups=privileged_groups)\n",
    "display(Markdown(\"#### Original training dataset\"))\n",
    "print(\"Difference in mean outcomes between unprivileged and privileged groups = %f\" % metric_orig_train.mean_difference())"
   ]
  },
  {
   "cell_type": "code",
   "execution_count": 16,
   "id": "93c91d8c-8aa6-40dc-8b09-f235fe723403",
   "metadata": {},
   "outputs": [],
   "source": [
    "RW = Reweighing(unprivileged_groups=unprivileged_groups,\n",
    "               privileged_groups=privileged_groups)\n",
    "RW.fit(dataset_orig_train)\n",
    "dataset_transf_train = RW.transform(dataset_orig_train)"
   ]
  },
  {
   "cell_type": "code",
   "execution_count": 17,
   "id": "89e2c253-0cac-499b-adba-e6e82391fc06",
   "metadata": {},
   "outputs": [
    {
     "data": {
      "text/markdown": [
       "#### Transformed training dataset"
      ],
      "text/plain": [
       "<IPython.core.display.Markdown object>"
      ]
     },
     "metadata": {},
     "output_type": "display_data"
    },
    {
     "name": "stdout",
     "output_type": "stream",
     "text": [
      "Difference in mean outcomes between unprivileged and privileged groups = 0.000000\n"
     ]
    }
   ],
   "source": [
    "metric_transf_train = BinaryLabelDatasetMetric(dataset_transf_train, \n",
    "                                         unprivileged_groups=unprivileged_groups,\n",
    "                                         privileged_groups=privileged_groups)\n",
    "display(Markdown(\"#### Transformed training dataset\"))\n",
    "print(\"Difference in mean outcomes between unprivileged and privileged groups = %f\" % metric_transf_train.mean_difference())"
   ]
  },
  {
   "cell_type": "code",
   "execution_count": 18,
   "id": "278f6de6-9e94-427d-a58e-3a6d84c3c6bb",
   "metadata": {},
   "outputs": [],
   "source": [
    "# Logistic regression classifier and predictions\n",
    "scale_orig = StandardScaler()\n",
    "X_train = scale_orig.fit_transform(dataset_orig_train.features)\n",
    "y_train = dataset_orig_train.labels.ravel()\n",
    "w_train = dataset_orig_train.instance_weights.ravel()\n",
    "\n",
    "lmod = LogisticRegression()\n",
    "lmod.fit(X_train, y_train, \n",
    "         sample_weight=dataset_orig_train.instance_weights)\n",
    "y_train_pred = lmod.predict(X_train)\n",
    "\n",
    "# positive class index\n",
    "pos_ind = np.where(lmod.classes_ == dataset_orig_train.favorable_label)[0][0]\n",
    "\n",
    "dataset_orig_train_pred = dataset_orig_train.copy()\n",
    "dataset_orig_train_pred.labels = y_train_pred"
   ]
  },
  {
   "cell_type": "code",
   "execution_count": 19,
   "id": "2254a99d-b615-4b78-bb9e-e8048b99cf05",
   "metadata": {},
   "outputs": [
    {
     "name": "stdout",
     "output_type": "stream",
     "text": [
      "[[0.11128556]\n",
      " [0.89134124]\n",
      " [0.73671239]\n",
      " [0.22525355]\n",
      " [0.33407149]\n",
      " [0.7123185 ]\n",
      " [0.39859159]\n",
      " [0.09899446]\n",
      " [0.79964556]\n",
      " [0.00458024]]\n"
     ]
    }
   ],
   "source": [
    "dataset_orig_valid_pred = dataset_orig_valid.copy(deepcopy=True)\n",
    "X_valid = scale_orig.transform(dataset_orig_valid_pred.features)\n",
    "y_valid = dataset_orig_valid_pred.labels\n",
    "dataset_orig_valid_pred.scores = lmod.predict_proba(X_valid)[:,pos_ind].reshape(-1,1)\n",
    "print(dataset_orig_valid_pred.scores[:10])\n",
    "\n",
    "dataset_orig_test_pred = dataset_orig_test.copy(deepcopy=True)\n",
    "X_test = scale_orig.transform(dataset_orig_test_pred.features)\n",
    "y_test = dataset_orig_test_pred.labels\n",
    "dataset_orig_test_pred.scores = lmod.predict_proba(X_test)[:,pos_ind].reshape(-1,1)"
   ]
  },
  {
   "cell_type": "code",
   "execution_count": 20,
   "id": "4baab8b9-0141-408d-bd7f-8ae4fc3c41b1",
   "metadata": {},
   "outputs": [
    {
     "name": "stdout",
     "output_type": "stream",
     "text": [
      "Best balanced accuracy (no reweighing) = 0.7175\n",
      "Optimal classification threshold (no reweighing) = 0.4456\n"
     ]
    }
   ],
   "source": [
    "num_thresh = 100\n",
    "ba_arr = np.zeros(num_thresh)\n",
    "class_thresh_arr = np.linspace(0.01, 0.99, num_thresh)\n",
    "for idx, class_thresh in enumerate(class_thresh_arr):\n",
    "    \n",
    "    fav_inds = dataset_orig_valid_pred.scores > class_thresh\n",
    "    dataset_orig_valid_pred.labels[fav_inds] = dataset_orig_valid_pred.favorable_label\n",
    "    dataset_orig_valid_pred.labels[~fav_inds] = dataset_orig_valid_pred.unfavorable_label\n",
    "    \n",
    "    classified_metric_orig_valid = ClassificationMetric(dataset_orig_valid,\n",
    "                                             dataset_orig_valid_pred, \n",
    "                                             unprivileged_groups=unprivileged_groups,\n",
    "                                             privileged_groups=privileged_groups)\n",
    "    \n",
    "    ba_arr[idx] = 0.5*(classified_metric_orig_valid.true_positive_rate()\\\n",
    "                       +classified_metric_orig_valid.true_negative_rate())\n",
    "\n",
    "best_ind = np.where(ba_arr == np.max(ba_arr))[0][0]\n",
    "best_class_thresh = class_thresh_arr[best_ind]\n",
    "\n",
    "print(\"Best balanced accuracy (no reweighing) = %.4f\" % np.max(ba_arr))\n",
    "print(\"Optimal classification threshold (no reweighing) = %.4f\" % best_class_thresh)"
   ]
  },
  {
   "cell_type": "code",
   "execution_count": 21,
   "id": "f9a8c677-6e4a-4c91-9ccb-f924e4965c1f",
   "metadata": {},
   "outputs": [
    {
     "data": {
      "text/markdown": [
       "#### Predictions from original testing data"
      ],
      "text/plain": [
       "<IPython.core.display.Markdown object>"
      ]
     },
     "metadata": {},
     "output_type": "display_data"
    },
    {
     "name": "stdout",
     "output_type": "stream",
     "text": [
      "Classification threshold used = 0.4456\n"
     ]
    },
    {
     "name": "stderr",
     "output_type": "stream",
     "text": [
      "100%|██████████| 100/100 [00:00<00:00, 928.49it/s]"
     ]
    },
    {
     "name": "stdout",
     "output_type": "stream",
     "text": [
      "Balanced accuracy = 0.6982\n",
      "Statistical parity difference = 0.2117\n",
      "Disparate impact = 1.3685\n",
      "Average odds difference = 0.1693\n",
      "Equal opportunity difference = 0.1702\n",
      "Theil index = 0.2009\n"
     ]
    },
    {
     "name": "stderr",
     "output_type": "stream",
     "text": [
      "\n"
     ]
    }
   ],
   "source": [
    "display(Markdown(\"#### Predictions from original testing data\"))\n",
    "bal_acc_arr_orig = []\n",
    "disp_imp_arr_orig = []\n",
    "avg_odds_diff_arr_orig = []\n",
    "\n",
    "print(\"Classification threshold used = %.4f\" % best_class_thresh)\n",
    "for thresh in tqdm(class_thresh_arr):\n",
    "    \n",
    "    if thresh == best_class_thresh:\n",
    "        disp = True\n",
    "    else:\n",
    "        disp = False\n",
    "    \n",
    "    fav_inds = dataset_orig_test_pred.scores > thresh\n",
    "    dataset_orig_test_pred.labels[fav_inds] = dataset_orig_test_pred.favorable_label\n",
    "    dataset_orig_test_pred.labels[~fav_inds] = dataset_orig_test_pred.unfavorable_label\n",
    "    \n",
    "    metric_test_bef = compute_metrics(dataset_orig_test, dataset_orig_test_pred, \n",
    "                                      unprivileged_groups, privileged_groups,\n",
    "                                      disp = disp)\n",
    "\n",
    "    bal_acc_arr_orig.append(metric_test_bef[\"Balanced accuracy\"])\n",
    "    avg_odds_diff_arr_orig.append(metric_test_bef[\"Average odds difference\"])\n",
    "    disp_imp_arr_orig.append(metric_test_bef[\"Disparate impact\"])"
   ]
  },
  {
   "cell_type": "markdown",
   "id": "b6cad331-8e41-416d-9b63-89ed1b093175",
   "metadata": {},
   "source": [
    "## Bias Scan"
   ]
  },
  {
   "cell_type": "code",
   "execution_count": 39,
   "id": "83e4db6f-6dd2-41e8-bb49-936bf6add232",
   "metadata": {},
   "outputs": [
    {
     "name": "stdout",
     "output_type": "stream",
     "text": [
      "Privileged Subset: ({'age': [19.0]}, 2.1428)\n",
      "Unprivileged Subset: ({'age': [21.0, 23.0], 'race': [0.0]}, 2.1571)\n"
     ]
    }
   ],
   "source": [
    "# Convert the test dataset to DataFrame and add actual observed labels\n",
    "df_test, _ = dataset_orig_test.convert_to_dataframe()\n",
    "df_test['observed'] = df_test['two_year_recid']\n",
    "\n",
    "# Use the scores from dataset_orig_test_pred as probabilities for the test dataset\n",
    "df_test['probabilities'] = dataset_orig_test_pred.scores\n",
    "\n",
    "# Perform bias scan on the test dataset\n",
    "privileged_subset = bias_scan(df_test[['sex', 'age', 'race']], df_test['observed'], df_test['probabilities'],\n",
    "                              favorable_value=dataset_orig_test_pred.favorable_label,\n",
    "                              penalty=0.5, overpredicted=True)\n",
    "unprivileged_subset = bias_scan(df_test[['sex', 'age', 'race']], df_test['observed'], df_test['probabilities'],\n",
    "                                favorable_value=dataset_orig_test_pred.favorable_label,\n",
    "                                penalty=0.5, overpredicted=False)\n",
    "\n",
    "# Display results\n",
    "print(\"Privileged Subset:\", privileged_subset)\n",
    "print(\"Unprivileged Subset:\", unprivileged_subset)"
   ]
  },
  {
   "cell_type": "markdown",
   "id": "4819bba3-c34d-48e9-8531-ba2e7310499c",
   "metadata": {},
   "source": [
    "## Measuring and Comparing Bias"
   ]
  },
  {
   "cell_type": "markdown",
   "id": "130b8254-107d-49b0-8e93-ea6c10782375",
   "metadata": {},
   "source": [
    "Compare subset age == 19"
   ]
  },
  {
   "cell_type": "code",
   "execution_count": 51,
   "id": "6c631e6e-6cdf-493f-91d3-fc8051cd0d55",
   "metadata": {},
   "outputs": [
    {
     "name": "stderr",
     "output_type": "stream",
     "text": [
      "WARNING:root:Missing Data: 5 rows removed from CompasDataset.\n"
     ]
    },
    {
     "name": "stdout",
     "output_type": "stream",
     "text": [
      "Mean Difference (Age 19):  0.05\n"
     ]
    }
   ],
   "source": [
    "# Load COMPAS dataset without specifying protected attributes related to 'sex' or 'race'\n",
    "compas_data = CompasDataset()\n",
    "\n",
    "# Subset dataset for individuals aged 19\n",
    "age_19_subgroup = compas_data.subset(compas_data.features[:, compas_data.feature_names.index('age')] == 19)\n",
    "\n",
    "# Dummy privileged and unprivileged groups (needed for metric calculation)\n",
    "dummy_privileged_groups = [{'sex': 1}]\n",
    "dummy_unprivileged_groups = [{'sex': 0}]\n",
    "\n",
    "# Metric for the age 19 subgroup\n",
    "metric_age_19 = BinaryLabelDatasetMetric(age_19_subgroup, \n",
    "                                         unprivileged_groups=dummy_unprivileged_groups,\n",
    "                                         privileged_groups=dummy_privileged_groups)\n",
    "\n",
    "# Display bias metrics\n",
    "print(\"Mean Difference (Age 19): \", metric_age_19.mean_difference())"
   ]
  },
  {
   "cell_type": "code",
   "execution_count": 53,
   "id": "37c884d5-a268-4775-ad7d-f50f1d05246e",
   "metadata": {},
   "outputs": [
    {
     "name": "stdout",
     "output_type": "stream",
     "text": [
      "Mean Difference (Age 21 and 23, non-Caucasian):  -0.14097476978363405\n"
     ]
    }
   ],
   "source": [
    "# Create boolean arrays for age and race conditions\n",
    "age_condition = (compas_data.features[:, compas_data.feature_names.index('age')] == 21) | \\\n",
    "                (compas_data.features[:, compas_data.feature_names.index('age')] == 23)\n",
    "race_condition = compas_data.features[:, compas_data.feature_names.index('race')] == 0\n",
    "\n",
    "# Combine conditions and subset the dataset\n",
    "combined_condition = age_condition & race_condition\n",
    "age_21_23_subgroup = compas_data.subset(combined_condition)\n",
    "\n",
    "# Dummy privileged and unprivileged groups for metric calculation\n",
    "dummy_privileged_groups = [{'sex': 1}]\n",
    "dummy_unprivileged_groups = [{'sex': 0}]\n",
    "\n",
    "# Metric for the age 21 and 23, non-Caucasian subgroup\n",
    "metric_age_21_23 = BinaryLabelDatasetMetric(age_21_23_subgroup, \n",
    "                                            unprivileged_groups=dummy_unprivileged_groups,\n",
    "                                            privileged_groups=dummy_privileged_groups)\n",
    "\n",
    "# Display bias metrics\n",
    "print(\"Mean Difference (Age 21 and 23, non-Caucasian): \", metric_age_21_23.mean_difference())"
   ]
  }
 ],
 "metadata": {
  "kernelspec": {
   "display_name": "Python 3 (ipykernel)",
   "language": "python",
   "name": "python3"
  },
  "language_info": {
   "codemirror_mode": {
    "name": "ipython",
    "version": 3
   },
   "file_extension": ".py",
   "mimetype": "text/x-python",
   "name": "python",
   "nbconvert_exporter": "python",
   "pygments_lexer": "ipython3",
   "version": "3.9.18"
  }
 },
 "nbformat": 4,
 "nbformat_minor": 5
}
